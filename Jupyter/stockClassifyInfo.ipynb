{
 "cells": [
  {
   "cell_type": "code",
   "execution_count": 1,
   "metadata": {},
   "outputs": [
    {
     "name": "stdout",
     "output_type": "stream",
     "text": [
      "auth success （JQData现有流量增加活动，详情请咨询JQData管理员，微信号：JQData02）\n"
     ]
    }
   ],
   "source": [
    "from jqdatasdk import *\n",
    "auth('18620668927', 'minpeng123')"
   ]
  },
  {
   "cell_type": "code",
   "execution_count": 2,
   "metadata": {},
   "outputs": [
    {
     "data": {
      "text/plain": [
       "['000503.XSHE',\n",
       " '000606.XSHE',\n",
       " '000676.XSHE',\n",
       " '000835.XSHE',\n",
       " '002072.XSHE',\n",
       " '002095.XSHE',\n",
       " '002113.XSHE',\n",
       " '002131.XSHE',\n",
       " '002137.XSHE',\n",
       " '002174.XSHE',\n",
       " '002175.XSHE',\n",
       " '002235.XSHE',\n",
       " '002247.XSHE',\n",
       " '002315.XSHE',\n",
       " '002354.XSHE',\n",
       " '002425.XSHE',\n",
       " '002439.XSHE',\n",
       " '002447.XSHE',\n",
       " '002464.XSHE',\n",
       " '002467.XSHE',\n",
       " '002517.XSHE',\n",
       " '002530.XSHE',\n",
       " '002555.XSHE',\n",
       " '002558.XSHE',\n",
       " '002619.XSHE',\n",
       " '002624.XSHE',\n",
       " '300031.XSHE',\n",
       " '300038.XSHE',\n",
       " '300043.XSHE',\n",
       " '300052.XSHE',\n",
       " '300059.XSHE',\n",
       " '300104.XSHE',\n",
       " '300113.XSHE',\n",
       " '300226.XSHE',\n",
       " '300242.XSHE',\n",
       " '300295.XSHE',\n",
       " '300315.XSHE',\n",
       " '300343.XSHE',\n",
       " '300392.XSHE',\n",
       " '300418.XSHE',\n",
       " '300431.XSHE',\n",
       " '300467.XSHE',\n",
       " '300494.XSHE',\n",
       " '300571.XSHE',\n",
       " '300766.XSHE',\n",
       " '300773.XSHE',\n",
       " '600242.XSHG',\n",
       " '600358.XSHG',\n",
       " '600633.XSHG',\n",
       " '600634.XSHG',\n",
       " '600640.XSHG',\n",
       " '600652.XSHG',\n",
       " '600804.XSHG',\n",
       " '600899.XSHG',\n",
       " '600986.XSHG',\n",
       " '601360.XSHG',\n",
       " '603000.XSHG',\n",
       " '603258.XSHG',\n",
       " '603444.XSHG',\n",
       " '603533.XSHG',\n",
       " '603825.XSHG',\n",
       " '603881.XSHG',\n",
       " '603888.XSHG']"
      ]
     },
     "execution_count": 2,
     "metadata": {},
     "output_type": "execute_result"
    }
   ],
   "source": [
    "#获取在给定日期一个行业板块的所有股票，行业分类列表见数据页面-行业数据\n",
    "get_industry_stocks('I64')"
   ]
  },
  {
   "cell_type": "code",
   "execution_count": 3,
   "metadata": {},
   "outputs": [
    {
     "data": {
      "text/plain": [
       "['000791.XSHE',\n",
       " '000836.XSHE',\n",
       " '000862.XSHE',\n",
       " '000958.XSHE',\n",
       " '002080.XSHE',\n",
       " '002202.XSHE',\n",
       " '002204.XSHE',\n",
       " '002531.XSHE',\n",
       " '300040.XSHE',\n",
       " '300129.XSHE',\n",
       " '300169.XSHE',\n",
       " '300185.XSHE',\n",
       " '300443.XSHE',\n",
       " '300569.XSHE',\n",
       " '300690.XSHE',\n",
       " '300772.XSHE',\n",
       " '600163.XSHG',\n",
       " '600192.XSHG',\n",
       " '600290.XSHG',\n",
       " '600416.XSHG',\n",
       " '600458.XSHG',\n",
       " '600483.XSHG',\n",
       " '600875.XSHG',\n",
       " '601016.XSHG',\n",
       " '601218.XSHG',\n",
       " '601615.XSHG',\n",
       " '601619.XSHG',\n",
       " '603063.XSHG',\n",
       " '603693.XSHG']"
      ]
     },
     "execution_count": 3,
     "metadata": {},
     "output_type": "execute_result"
    }
   ],
   "source": [
    "#获取在给定日期一个概念板块的所有股票，概念分类列表见数据页面-概念数据\n",
    "get_concept_stocks('GN036')"
   ]
  },
  {
   "cell_type": "code",
   "execution_count": 4,
   "metadata": {},
   "outputs": [
    {
     "data": {
      "text/plain": [
       "{'600519.XSHG': {'sw_l1': {'industry_code': '801120',\n",
       "   'industry_name': '食品饮料I'},\n",
       "  'sw_l2': {'industry_code': '801123', 'industry_name': '饮料制造II'},\n",
       "  'sw_l3': {'industry_code': '851231', 'industry_name': '白酒III'},\n",
       "  'zjw': {'industry_code': 'C15', 'industry_name': '酒、饮料和精制茶制造业'},\n",
       "  'jq_l2': {'industry_code': 'HY478', 'industry_name': '白酒与葡萄酒指数'},\n",
       "  'jq_l1': {'industry_code': 'HY005', 'industry_name': '日常消费指数'}}}"
      ]
     },
     "execution_count": 4,
     "metadata": {},
     "output_type": "execute_result"
    }
   ],
   "source": [
    "#查询股票所属行业\n",
    "get_industry(\"600519.XSHG\",date=\"2018-07-01\")"
   ]
  },
  {
   "cell_type": "code",
   "execution_count": null,
   "metadata": {},
   "outputs": [],
   "source": []
  }
 ],
 "metadata": {
  "kernelspec": {
   "display_name": "Python 3",
   "language": "python",
   "name": "python3"
  },
  "language_info": {
   "codemirror_mode": {
    "name": "ipython",
    "version": 3
   },
   "file_extension": ".py",
   "mimetype": "text/x-python",
   "name": "python",
   "nbconvert_exporter": "python",
   "pygments_lexer": "ipython3",
   "version": "3.7.3"
  }
 },
 "nbformat": 4,
 "nbformat_minor": 2
}
