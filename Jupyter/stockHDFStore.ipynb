{
 "cells": [
  {
   "cell_type": "code",
   "execution_count": null,
   "metadata": {},
   "outputs": [],
   "source": [
    "import pandas as pd\n",
    "import numpy as np\n",
    "from jqdatasdk import *\n",
    "import os\n",
    "auth('18620668927', 'minpeng123')"
   ]
  },
  {
   "cell_type": "code",
   "execution_count": null,
   "metadata": {},
   "outputs": [],
   "source": [
    "#从JQData获得数据，hq是一个Panel'\n",
    "das='2018-06-01';dae='2019-06-30'\n",
    "index_codes=get_index_stocks('000300.XSHG', date=das)\n",
    "hq=get_price(index_codes, start_date=das, end_date=dae, frequency='daily', fields=['close','pre_close'], skip_paused=False, fq='pre')\n",
    "hq"
   ]
  },
  {
   "cell_type": "code",
   "execution_count": null,
   "metadata": {},
   "outputs": [],
   "source": [
    "#使用h5格式进行数据存储\n",
    "#此处采用过了压缩模式，压缩模式下节约存储，且对于大文件极大提升IO效率\n",
    "store=pd.HDFStore('jqtestdata.h5',complevel=9, complib='blosc:blosclz')\n",
    "store.put('HQ',hq)#将数据hq放到标签'HQ'中。\n",
    "print(store.keys())#可以看到h5文件中已经有了key的情况"
   ]
  },
  {
   "cell_type": "code",
   "execution_count": 7,
   "metadata": {},
   "outputs": [
    {
     "name": "stdout",
     "output_type": "stream",
     "text": [
      "<class 'pandas.core.panel.Panel'>\n",
      "Dimensions: 2 (items) x 19 (major_axis) x 300 (minor_axis)\n",
      "Items axis: close to pre_close\n",
      "Major_axis axis: 2019-06-03 00:00:00 to 2019-06-28 00:00:00\n",
      "Minor_axis axis: 000001.XSHE to 603993.XSHG\n"
     ]
    },
    {
     "name": "stderr",
     "output_type": "stream",
     "text": [
      "/Library/Frameworks/Python.framework/Versions/3.7/lib/python3.7/site-packages/pandas/io/pytables.py:733: FutureWarning: \n",
      "Panel is deprecated and will be removed in a future version.\n",
      "The recommended way to represent these types of 3-dimensional data are with a MultiIndex on a DataFrame, via the Panel.to_frame() method\n",
      "Alternatively, you can use the xarray package http://xarray.pydata.org/en/stable/.\n",
      "Pandas provides a `.to_xarray()` method to help automate this conversion.\n",
      "\n",
      "  columns=columns)\n"
     ]
    }
   ],
   "source": [
    "#读取数据\n",
    "store=pd.HDFStore('jqtestdata.h5',complevel=9, complib='blosc:blosclz')\n",
    "hq2=store.select('HQ')#此处直接读取了整个数据结构，对于table模式，还可使用类似sql语句的选择。\n",
    "store.close()\n",
    "print(hq2)#重现hq数据结构"
   ]
  }
 ],
 "metadata": {
  "kernelspec": {
   "display_name": "Python 3",
   "language": "python",
   "name": "python3"
  },
  "language_info": {
   "codemirror_mode": {
    "name": "ipython",
    "version": 3
   },
   "file_extension": ".py",
   "mimetype": "text/x-python",
   "name": "python",
   "nbconvert_exporter": "python",
   "pygments_lexer": "ipython3",
   "version": "3.7.3"
  }
 },
 "nbformat": 4,
 "nbformat_minor": 2
}
