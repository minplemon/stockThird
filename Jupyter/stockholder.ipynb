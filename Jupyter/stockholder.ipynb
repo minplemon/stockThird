{
 "cells": [
  {
   "cell_type": "code",
   "execution_count": 1,
   "metadata": {},
   "outputs": [
    {
     "name": "stdout",
     "output_type": "stream",
     "text": [
      "auth success （JQData现有流量增加活动，详情请咨询JQData管理员，微信号：JQData02）\n"
     ]
    }
   ],
   "source": [
    "#公司股东信息\n",
    "from jqdatasdk import *\n",
    "auth('18620668927', 'minpeng123')"
   ]
  },
  {
   "cell_type": "code",
   "execution_count": 2,
   "metadata": {},
   "outputs": [
    {
     "name": "stdout",
     "output_type": "stream",
     "text": [
      "       id company_name  company_id         code    end_date    pub_date  \\\n",
      "0  744431   平安银行股份有限公司   430000001  000001.XSHE  2014-12-31  2015-03-13   \n",
      "1  744432   平安银行股份有限公司   430000001  000001.XSHE  2014-12-31  2015-03-13   \n",
      "2  744433   平安银行股份有限公司   430000001  000001.XSHE  2014-12-31  2015-03-13   \n",
      "3  744434   平安银行股份有限公司   430000001  000001.XSHE  2014-12-31  2015-03-13   \n",
      "4  744435   平安银行股份有限公司   430000001  000001.XSHE  2014-12-31  2015-03-13   \n",
      "5  744436   平安银行股份有限公司   430000001  000001.XSHE  2014-12-31  2015-03-13   \n",
      "6  744437   平安银行股份有限公司   430000001  000001.XSHE  2014-12-31  2015-03-13   \n",
      "7  744438   平安银行股份有限公司   430000001  000001.XSHE  2014-12-31  2015-03-13   \n",
      "8  744439   平安银行股份有限公司   430000001  000001.XSHE  2014-12-31  2015-03-13   \n",
      "9  744440   平安银行股份有限公司   430000001  000001.XSHE  2014-12-31  2015-03-13   \n",
      "\n",
      "   change_reason_id change_reason  shareholder_rank  \\\n",
      "0            306019          定期报告                 1   \n",
      "1            306019          定期报告                 5   \n",
      "2            306019          定期报告                10   \n",
      "3            306019          定期报告                 4   \n",
      "4            306019          定期报告                 8   \n",
      "5            306019          定期报告                 9   \n",
      "6            306019          定期报告                 7   \n",
      "7            306019          定期报告                 3   \n",
      "8            306019          定期报告                 2   \n",
      "9            306019          定期报告                 6   \n",
      "\n",
      "             shareholder_name  ... shareholder_id  shareholder_class_id  \\\n",
      "0  中国平安保险(集团)股份有限公司-集团本级-自有资金  ...      300002221                307023   \n",
      "1                深圳中电投资股份有限公司  ...      100010483                307099   \n",
      "2      中国工商银行-融通深证100指数证券投资基金  ...      120161604                307003   \n",
      "3    中国平安人寿保险股份有限公司-传统-普通保险产品  ...      100000450                307014   \n",
      "4   南方东英资产管理有限公司-南方富时中国A50ETF  ...      130000212                307007   \n",
      "5       中国建设银行-博时主题行业股票证券投资基金  ...      120160505                307003   \n",
      "6                 全国社保基金一零四组合  ...      100142712                307004   \n",
      "7                         葛卫东  ...      100079276                307001   \n",
      "8         中国平安人寿保险股份有限公司-自有资金  ...      100030287                307006   \n",
      "9                 全国社保基金一零三组合  ...      100000232                307004   \n",
      "\n",
      "   shareholder_class  share_number  share_ratio  sharesnature_id  \\\n",
      "0          保险公司和上市公司  5.734892e+09        50.20           308025   \n",
      "1               其他机构  1.433000e+08         1.25           308007   \n",
      "2             证券投资基金  3.131589e+07         0.27           308007   \n",
      "3             保险投资组合  2.706500e+08         2.37           308007   \n",
      "4               QFII  4.138537e+07         0.36           308007   \n",
      "5             证券投资基金  3.830000e+07         0.34           308007   \n",
      "6               社保基金  5.398882e+07         0.47           308007   \n",
      "7                自然人  2.742398e+08         2.40           308007   \n",
      "8               保险公司  7.287936e+08         6.38           308007   \n",
      "9               社保基金  5.356922e+07         0.47           308007   \n",
      "\n",
      "   sharesnature share_pledge_freeze share_pledge share_freeze  \n",
      "0   流通A股和流通受限股份                None         None         None  \n",
      "1          流通A股                None         None         None  \n",
      "2          流通A股                None         None         None  \n",
      "3          流通A股                None         None         None  \n",
      "4          流通A股                None         None         None  \n",
      "5          流通A股                None         None         None  \n",
      "6          流通A股                None         None         None  \n",
      "7          流通A股                None         None         None  \n",
      "8          流通A股                None         None         None  \n",
      "9          流通A股                None         None         None  \n",
      "\n",
      "[10 rows x 21 columns]\n"
     ]
    }
   ],
   "source": [
    "#十大股东\n",
    "q=query(finance.STK_SHAREHOLDER_TOP10).filter(finance.STK_SHAREHOLDER_TOP10.code=='000001.XSHE',finance.STK_SHAREHOLDER_TOP10.pub_date>'2015-01-01').limit(10)\n",
    "df=finance.run_query(q)\n",
    "print(df)"
   ]
  },
  {
   "cell_type": "code",
   "execution_count": 3,
   "metadata": {},
   "outputs": [
    {
     "name": "stdout",
     "output_type": "stream",
     "text": [
      "        id  company_id company_name         code    end_date    pub_date  \\\n",
      "0  2297493   430000001   平安银行股份有限公司  000001.XSHE  2018-03-31  2018-04-20   \n",
      "1  2297494   430000001   平安银行股份有限公司  000001.XSHE  2018-03-31  2018-04-20   \n",
      "2  2297495   430000001   平安银行股份有限公司  000001.XSHE  2018-03-31  2018-04-20   \n",
      "3  2297496   430000001   平安银行股份有限公司  000001.XSHE  2018-03-31  2018-04-20   \n",
      "4  2297497   430000001   平安银行股份有限公司  000001.XSHE  2018-03-31  2018-04-20   \n",
      "5  2297498   430000001   平安银行股份有限公司  000001.XSHE  2018-03-31  2018-04-20   \n",
      "6  2297499   430000001   平安银行股份有限公司  000001.XSHE  2018-03-31  2018-04-20   \n",
      "7  2297500   430000001   平安银行股份有限公司  000001.XSHE  2018-03-31  2018-04-20   \n",
      "8  2297501   430000001   平安银行股份有限公司  000001.XSHE  2018-03-31  2018-04-20   \n",
      "9  2297502   430000001   平安银行股份有限公司  000001.XSHE  2018-03-31  2018-04-20   \n",
      "\n",
      "   change_reason_id change_reason  shareholder_rank  shareholder_id  \\\n",
      "0            306019          定期报告                 1       300002221   \n",
      "1            306019          定期报告                 2       100030287   \n",
      "2            306019          定期报告                 3       100011907   \n",
      "3            306019          定期报告                 4       100000450   \n",
      "4            306019          定期报告                 5       300023366   \n",
      "5            306019          定期报告                 6       300031843   \n",
      "6            306019          定期报告                 7       100010483   \n",
      "7            306019          定期报告                 8       100007844   \n",
      "8            306019          定期报告                 9       100000382   \n",
      "9            306019          定期报告                10       100179717   \n",
      "\n",
      "                     shareholder_name shareholder_name_en  \\\n",
      "0          中国平安保险(集团)股份有限公司-集团本级-自有资金                None   \n",
      "1                 中国平安人寿保险股份有限公司-自有资金                None   \n",
      "2                          香港中央结算有限公司                None   \n",
      "3            中国平安人寿保险股份有限公司-传统-普通保险产品                None   \n",
      "4                        中国证券金融股份有限公司                None   \n",
      "5                      中央汇金资产管理有限责任公司                None   \n",
      "6                        深圳中电投资股份有限公司                None   \n",
      "7                          河南鸿宝集团有限公司                None   \n",
      "8    新华人寿保险股份有限公司-分红-个人分红-018L-FH002深                None   \n",
      "9  泰达宏利基金-民生银行-泰达宏利价值成长定向增发193号资产管理计划                None   \n",
      "\n",
      "   shareholder_class_id shareholder_class  share_number  share_ratio  \\\n",
      "0                307023         保险公司和上市公司  8.258245e+09       48.096   \n",
      "1                307006              保险公司  1.049463e+09        6.112   \n",
      "2                307099              其他机构  4.008374e+08        2.334   \n",
      "3                307014            保险投资组合  3.897360e+08        2.270   \n",
      "4                307099              其他机构  3.658271e+08        2.131   \n",
      "5                307099              其他机构  2.162130e+08        1.259   \n",
      "6                307099              其他机构  1.860519e+08        1.084   \n",
      "7                307099              其他机构  9.154330e+07        0.533   \n",
      "8                307014            保险投资组合  4.960350e+07        0.289   \n",
      "9                307017          基金资产管理计划  4.070892e+07        0.237   \n",
      "\n",
      "   sharesnature_id sharesnature  \n",
      "0           308007         流通A股  \n",
      "1           308007         流通A股  \n",
      "2           308007         流通A股  \n",
      "3           308007         流通A股  \n",
      "4           308007         流通A股  \n",
      "5           308007         流通A股  \n",
      "6           308007         流通A股  \n",
      "7           308007         流通A股  \n",
      "8           308007         流通A股  \n",
      "9           308007         流通A股  \n"
     ]
    }
   ],
   "source": [
    "#十大流通股东\n",
    "q=query(finance.STK_SHAREHOLDER_FLOATING_TOP10).filter(finance.STK_SHAREHOLDER_FLOATING_TOP10.code=='000001.XSHE',finance.STK_SHAREHOLDER_FLOATING_TOP10.pub_date>'2015-01-01').limit(10)\n",
    "df=finance.run_query(q)\n",
    "print(df)"
   ]
  },
  {
   "cell_type": "code",
   "execution_count": 5,
   "metadata": {},
   "outputs": [
    {
     "name": "stdout",
     "output_type": "stream",
     "text": [
      "      id  company_id company_name         code    pub_date pledgor_id  \\\n",
      "0  82514   430000002   万科企业股份有限公司  000002.XSHE  2015-11-11       None   \n",
      "1  82515   430000002   万科企业股份有限公司  000002.XSHE  2016-07-14       None   \n",
      "2  82516   430000002   万科企业股份有限公司  000002.XSHE  2017-03-08       None   \n",
      "3  82517   430000002   万科企业股份有限公司  000002.XSHE  2017-03-08       None   \n",
      "4  82518   430000002   万科企业股份有限公司  000002.XSHE  2017-03-14       None   \n",
      "5  82519   430000002   万科企业股份有限公司  000002.XSHE  2017-03-17       None   \n",
      "6  82520   430000002   万科企业股份有限公司  000002.XSHE  2017-03-17       None   \n",
      "7  82521   430000002   万科企业股份有限公司  000002.XSHE  2017-03-17       None   \n",
      "8  82522   430000002   万科企业股份有限公司  000002.XSHE  2017-03-17       None   \n",
      "9  82523   430000002   万科企业股份有限公司  000002.XSHE  2017-03-17       None   \n",
      "\n",
      "        pledgor         pledgee  \\\n",
      "0  深圳市钜盛华股份有限公司  鹏华资产管理（深圳）有限公司   \n",
      "1  深圳市钜盛华股份有限公司    中国银河证券股份有限公司   \n",
      "2  深圳市钜盛华股份有限公司  鹏华资产管理（深圳）有限公司   \n",
      "3  深圳市钜盛华股份有限公司  鹏华资产管理（深圳）有限公司   \n",
      "4  深圳市钜盛华股份有限公司      平安证券股份有限公司   \n",
      "5   广州市仲勤投资有限公司      中信证券股份有限公司   \n",
      "6   广州市凯轩投资有限公司      中信证券股份有限公司   \n",
      "7   广州市凯进投资有限公司      中信证券股份有限公司   \n",
      "8   广州市启通实业有限公司      中信证券股份有限公司   \n",
      "9   广州市奕博投资有限公司      中信证券股份有限公司   \n",
      "\n",
      "                                         pledge_item  pledge_nature_id  \\\n",
      "0  本公司股东深圳市钜盛华股份有限公司将持有的公司728,000,000股无限售流通A股质押给鹏...               NaN   \n",
      "1  本公司股东深圳市钜盛华股份有限公司将持有的本公司37357300股股权质押给中国银河证券股份...          308007.0   \n",
      "2  本公司股东深圳市钜盛华股份有限公司将2015年10月21日质押给鹏华资产管理（深圳）有限公司...          308007.0   \n",
      "3  本公司股东深圳市钜盛华股份有限公司将2015年10月28日质押给鹏华资产管理（深圳）有限公司...          308007.0   \n",
      "4  本公司第一大股东深圳市钜盛华股份有限公司将持有的本公司182000000股流通A股股权质押给...          308007.0   \n",
      "5  本公司股东广州市仲勤投资有限公司将持有的本公司73849402股股权质押给中信证券股份有限公...               NaN   \n",
      "6  本公司股东广州市凯轩投资有限公司将持有的本公司123501075股股权质押给中信证券股份有限...               NaN   \n",
      "7  本公司股东广州市凯进投资有限公司将持有的本公司50759970股股权质押给中信证券股份有限公...               NaN   \n",
      "8  本公司股东广州市启通实业有限公司将持有的本公司68205047股股权质押给中信证券股份有限公...               NaN   \n",
      "9  本公司股东广州市奕博投资有限公司将持有的本公司207273581股股权质押给中信证券股份有限...               NaN   \n",
      "\n",
      "  pledge_nature  pledge_number  pledge_total_ratio  start_date    end_date  \\\n",
      "0          None    728000000.0                6.59  2015-10-15        None   \n",
      "1          流通A股     37357300.0                 NaN  2016-07-12        None   \n",
      "2          流通A股            NaN                 NaN  2015-10-21  2017-03-03   \n",
      "3          流通A股            NaN                 NaN  2015-10-28  2017-03-03   \n",
      "4          流通A股    182000000.0                 NaN  2017-03-09        None   \n",
      "5          None     73849402.0                 NaN  2017-03-16  2018-03-16   \n",
      "6          None    123501075.0                 NaN  2017-03-16  2018-03-16   \n",
      "7          None     50759970.0                 NaN  2017-03-16  2018-03-16   \n",
      "8          None     68205047.0                 NaN  2017-03-16  2018-03-16   \n",
      "9          None    207273581.0                 NaN  2017-03-16  2018-03-16   \n",
      "\n",
      "  unpledged_date  unpledged_number unpledged_detail is_buy_back  \n",
      "0           None               NaN             None        None  \n",
      "1           None               NaN             None           1  \n",
      "2     2017-03-03        91000000.0             None        None  \n",
      "3     2017-03-03        91000000.0             None        None  \n",
      "4           None               NaN             None           1  \n",
      "5           None               NaN             None           1  \n",
      "6           None               NaN             None           1  \n",
      "7           None               NaN             None           1  \n",
      "8           None               NaN             None           1  \n",
      "9           None               NaN             None           1  \n"
     ]
    }
   ],
   "source": [
    "#股东股份质押\n",
    "q=query(finance.STK_SHARES_PLEDGE).filter(finance.STK_SHARES_PLEDGE.code=='000002.XSHE',finance.STK_SHARES_PLEDGE.pub_date>'2015-01-01').limit(10)\n",
    "df=finance.run_query(q)\n",
    "print(df)"
   ]
  },
  {
   "cell_type": "code",
   "execution_count": 11,
   "metadata": {},
   "outputs": [
    {
     "name": "stdout",
     "output_type": "stream",
     "text": [
      "Empty DataFrame\n",
      "Columns: [id, company_id, company_name, pub_date, code, frozen_person_id, frozen_person, frozen_reason, frozen_share_nature_id, frozen_share_nature, frozen_number, frozen_total_ratio, freeze_applicant, freeze_executor, start_date, end_date, unfrozen_date, unfrozen_number, unfrozen_detail]\n",
      "Index: []\n"
     ]
    }
   ],
   "source": [
    "#股东股份冻结\n",
    "q=query(finance.STK_SHARES_FROZEN).filter(finance.STK_SHARES_FROZEN.code=='000001.XSHE',finance.STK_SHARES_FROZEN.pub_date>'2015-01-01').limit(10)\n",
    "df=finance.run_query(q)\n",
    "print(df)"
   ]
  },
  {
   "cell_type": "code",
   "execution_count": 12,
   "metadata": {},
   "outputs": [
    {
     "name": "stdout",
     "output_type": "stream",
     "text": [
      "   id         code    end_date    pub_date  share_holders  a_share_holders  \\\n",
      "0  63  000001.XSHE  2014-12-31  2015-03-13         275838           275838   \n",
      "1  64  000001.XSHE  2015-03-06  2015-03-13         335403           335403   \n",
      "2  65  000001.XSHE  2015-03-31  2015-04-24         313029           313029   \n",
      "3  66  000001.XSHE  2015-06-30  2015-08-14         418294           418294   \n",
      "4  67  000001.XSHE  2015-09-30  2015-10-23         358049           358049   \n",
      "5  68  000001.XSHE  2015-12-31  2016-03-10         332918           332918   \n",
      "6  69  000001.XSHE  2016-02-29  2016-03-10         347147           347147   \n",
      "7  70  000001.XSHE  2016-03-31  2016-04-21         341525           341525   \n",
      "8  71  000001.XSHE  2016-06-30  2016-08-12         340528           340528   \n",
      "9  72  000001.XSHE  2016-09-30  2016-10-21         340324           340324   \n",
      "\n",
      "  b_share_holders h_share_holders  \n",
      "0            None            None  \n",
      "1            None            None  \n",
      "2            None            None  \n",
      "3            None            None  \n",
      "4            None            None  \n",
      "5            None            None  \n",
      "6            None            None  \n",
      "7            None            None  \n",
      "8            None            None  \n",
      "9            None            None  \n"
     ]
    }
   ],
   "source": [
    "#股东户数\n",
    "q=query(finance.STK_HOLDER_NUM).filter(finance.STK_HOLDER_NUM.code=='000001.XSHE',finance.STK_HOLDER_NUM.pub_date>'2015-01-01').limit(10)\n",
    "df=finance.run_query(q)\n",
    "print(df)"
   ]
  },
  {
   "cell_type": "code",
   "execution_count": 14,
   "metadata": {},
   "outputs": [
    {
     "name": "stdout",
     "output_type": "stream",
     "text": [
      "      id  company_id company_name         code    pub_date    end_date  type  \\\n",
      "0   1362   430000002   万科企业股份有限公司  000002.XSHE  2015-10-22  2015-10-20     0   \n",
      "1  25094   430000002   万科企业股份有限公司  000002.XSHE  2015-01-24  2015-01-23     0   \n",
      "2  25138   430000002   万科企业股份有限公司  000002.XSHE  2015-01-28  2015-01-27     0   \n",
      "3  29854   430000002   万科企业股份有限公司  000002.XSHE  2015-07-11  2015-07-10     0   \n",
      "4  29883   430000002   万科企业股份有限公司  000002.XSHE  2015-07-11  2015-01-31     0   \n",
      "5  29884   430000002   万科企业股份有限公司  000002.XSHE  2015-07-11  2015-01-31     1   \n",
      "6  29885   430000002   万科企业股份有限公司  000002.XSHE  2015-07-11  2015-02-28     1   \n",
      "7  29886   430000002   万科企业股份有限公司  000002.XSHE  2015-07-11  2015-03-31     0   \n",
      "8  29887   430000002   万科企业股份有限公司  000002.XSHE  2015-07-11  2015-03-31     1   \n",
      "9  29888   430000002   万科企业股份有限公司  000002.XSHE  2015-07-11  2015-04-30     1   \n",
      "\n",
      "   shareholder_id            shareholder_name  change_number  change_ratio  \\\n",
      "0             NaN                深圳市矩盛华股份有限公司     37357310.0         0.338   \n",
      "1     100097568.0  国信证券-工商银行-国信金鹏分级1号集合资产管理计划    101187211.0         0.920   \n",
      "2     100097568.0  国信证券-工商银行-国信金鹏分级1号集合资产管理计划     34054269.0         0.310   \n",
      "3     100116740.0                前海人寿保险股份有限公司    552727926.0         5.000   \n",
      "4     100116740.0                前海人寿保险股份有限公司      1360161.0         0.012   \n",
      "5     100116740.0                前海人寿保险股份有限公司       642000.0         0.006   \n",
      "6     100116740.0                前海人寿保险股份有限公司      1140100.0         0.010   \n",
      "7     100116740.0                前海人寿保险股份有限公司     30500156.0         0.276   \n",
      "8     100116740.0                前海人寿保险股份有限公司          100.0         0.000   \n",
      "9     100116740.0                前海人寿保险股份有限公司     30499956.0         0.276   \n",
      "\n",
      "  price_ceiling after_change_ratio  \n",
      "0          None               None  \n",
      "1         12.79               None  \n",
      "2         13.26               None  \n",
      "3   13.28-15.47               None  \n",
      "4   13.13-13.60               None  \n",
      "5   12.98-13.20               None  \n",
      "6         11.89               None  \n",
      "7   12.44-12.58               None  \n",
      "8         13.18               None  \n",
      "9   14.12-14.83               None  \n"
     ]
    }
   ],
   "source": [
    "#大股东增减持\n",
    "q=query(finance.STK_SHAREHOLDERS_SHARE_CHANGE).filter(finance.STK_SHAREHOLDERS_SHARE_CHANGE.code=='000002.XSHE',finance.STK_SHAREHOLDERS_SHARE_CHANGE.pub_date>'2015-01-01').limit(10)\n",
    "df=finance.run_query(q)\n",
    "print(df)"
   ]
  },
  {
   "cell_type": "code",
   "execution_count": 17,
   "metadata": {},
   "outputs": [
    {
     "name": "stdout",
     "output_type": "stream",
     "text": [
      "      id  company_id company_name         code    pub_date  shareholder_name  \\\n",
      "0  12366   430000001   平安银行股份有限公司  000001.XSHE  2016-05-20       财通基金管理有限公司等   \n",
      "1  13315   430000001   平安银行股份有限公司  000001.XSHE  2017-01-05  中国平安保险（集团）股份有限公司   \n",
      "2  16226   430000001   平安银行股份有限公司  000001.XSHE  2018-05-18  中国平安保险（集团）股份有限公司   \n",
      "\n",
      "  actual_unlimited_date  actual_unlimited_number  actual_unlimited_ratio  \\\n",
      "0            2016-05-23             3.885957e+08                    2.72   \n",
      "1            2017-01-09             2.286809e+09                   13.32   \n",
      "2            2018-05-21             2.522480e+08                    1.47   \n",
      "\n",
      "   limited_reason_id limited_reason  actual_trade_number  \n",
      "0             309008        非公开发行限售         3.885957e+08  \n",
      "1             309008        非公开发行限售         2.286809e+09  \n",
      "2             309008        非公开发行限售         2.522480e+08  \n"
     ]
    }
   ],
   "source": [
    "#受限股份实际解禁日期\n",
    "q=query(finance.STK_LIMITED_SHARES_UNLIMIT).filter(finance.STK_LIMITED_SHARES_UNLIMIT.code=='000001.XSHE',finance.STK_LIMITED_SHARES_UNLIMIT.pub_date>'2015-01-01').limit(10)\n",
    "df=finance.run_query(q)\n",
    "print(df)"
   ]
  },
  {
   "cell_type": "code",
   "execution_count": 18,
   "metadata": {},
   "outputs": [
    {
     "name": "stdout",
     "output_type": "stream",
     "text": [
      "      id  company_id company_name         code change_date    pub_date  \\\n",
      "0     80   430000001   平安银行股份有限公司  000001.XSHE  2017-01-09  2017-01-05   \n",
      "1   5016   430000001   平安银行股份有限公司  000001.XSHE  2017-06-30  2017-08-11   \n",
      "2  10501   430000001   平安银行股份有限公司  000001.XSHE  2017-12-31  2018-03-15   \n",
      "3  15637   430000001   平安银行股份有限公司  000001.XSHE  2018-05-21  2018-05-18   \n",
      "4  65173   430000001   平安银行股份有限公司  000001.XSHE  2014-12-31  2015-03-13   \n",
      "5  66421   430000001   平安银行股份有限公司  000001.XSHE  2015-04-13  2015-04-07   \n",
      "6  68216   430000001   平安银行股份有限公司  000001.XSHE  2015-05-21  2015-05-20   \n",
      "7  70629   430000001   平安银行股份有限公司  000001.XSHE  2015-06-30  2015-08-14   \n",
      "8  74142   430000001   平安银行股份有限公司  000001.XSHE  2015-12-31  2016-03-10   \n",
      "9  78369   430000001   平安银行股份有限公司  000001.XSHE  2016-05-23  2016-05-20   \n",
      "\n",
      "   change_reason_id change_reason   share_total  share_non_trade  ...  \\\n",
      "0            306026        限售股份上市  1.717041e+06              0.0  ...   \n",
      "1            306019          定期报告  1.717041e+06              0.0  ...   \n",
      "2            306019          定期报告  1.717041e+06              NaN  ...   \n",
      "3            306026        限售股份上市  1.717041e+06              0.0  ...   \n",
      "4            306019          定期报告  1.142489e+06              0.0  ...   \n",
      "5            306011            转增  1.370987e+06              0.0  ...   \n",
      "6            306004        增发新股上市  1.430868e+06              0.0  ...   \n",
      "7            306019          定期报告  1.430868e+06              0.0  ...   \n",
      "8            306019          定期报告  1.430868e+06              0.0  ...   \n",
      "9            306026        限售股份上市  1.430868e+06              0.0  ...   \n",
      "\n",
      "   share_h  share_h_limited share_management share_management_limited  \\\n",
      "0      0.0             None              NaN                      NaN   \n",
      "1      0.0             None              NaN                      NaN   \n",
      "2      NaN             None              NaN                      0.0   \n",
      "3      NaN             None              NaN                      NaN   \n",
      "4      0.0             None              0.0                      NaN   \n",
      "5      0.0             None              0.0                      NaN   \n",
      "6      0.0             None              0.0                      NaN   \n",
      "7      0.0             None              0.0                      NaN   \n",
      "8      0.0             None              0.0                      NaN   \n",
      "9      0.0             None              0.0                      NaN   \n",
      "\n",
      "  share_other_trade control_shareholder_limited core_employee_limited  \\\n",
      "0               NaN                        None                  None   \n",
      "1               NaN                        None                  None   \n",
      "2               NaN                        None                  None   \n",
      "3               NaN                        None                  None   \n",
      "4               0.0                        None                  None   \n",
      "5               0.0                        None                  None   \n",
      "6               0.0                        None                  None   \n",
      "7               0.0                        None                  None   \n",
      "8               0.0                        None                  None   \n",
      "9               0.0                        None                  None   \n",
      "\n",
      "   individual_fund_limited other_legal_limited  other_limited  \n",
      "0                     None                None           None  \n",
      "1                     None                None           None  \n",
      "2                     None                None           None  \n",
      "3                     None                None           None  \n",
      "4                     None                None           None  \n",
      "5                     None                None           None  \n",
      "6                     None                None           None  \n",
      "7                     None                None           None  \n",
      "8                     None                None           None  \n",
      "9                     None                None           None  \n",
      "\n",
      "[10 rows x 49 columns]\n"
     ]
    }
   ],
   "source": [
    "#上市公司股本变动\n",
    "q=query(finance.STK_CAPITAL_CHANGE).filter(finance.STK_CAPITAL_CHANGE.code=='000001.XSHE',finance.STK_CAPITAL_CHANGE.pub_date>'2015-01-01').limit(10)\n",
    "df=finance.run_query(q)\n",
    "print(df)"
   ]
  },
  {
   "cell_type": "code",
   "execution_count": null,
   "metadata": {},
   "outputs": [],
   "source": []
  }
 ],
 "metadata": {
  "kernelspec": {
   "display_name": "Python 3",
   "language": "python",
   "name": "python3"
  },
  "language_info": {
   "codemirror_mode": {
    "name": "ipython",
    "version": 3
   },
   "file_extension": ".py",
   "mimetype": "text/x-python",
   "name": "python",
   "nbconvert_exporter": "python",
   "pygments_lexer": "ipython3",
   "version": "3.7.3"
  }
 },
 "nbformat": 4,
 "nbformat_minor": 2
}
