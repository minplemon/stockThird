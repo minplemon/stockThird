{
 "cells": [
  {
   "cell_type": "code",
   "execution_count": 1,
   "metadata": {},
   "outputs": [
    {
     "name": "stdout",
     "output_type": "stream",
     "text": [
      "auth success （JQData现有流量增加活动，详情请咨询JQData管理员，微信号：JQData02）\n"
     ]
    }
   ],
   "source": [
    "#公司基本信息\n",
    "from jqdatasdk import *\n",
    "auth('18620668927', 'minpeng123')"
   ]
  },
  {
   "cell_type": "code",
   "execution_count": 2,
   "metadata": {},
   "outputs": [
    {
     "name": "stdout",
     "output_type": "stream",
     "text": [
      "     id  company_id         code   full_name short_name  a_code b_code h_code  \\\n",
      "0  3082   430000001  000001.XSHE  平安银行股份有限公司       平安银行  000001   None   None   \n",
      "\n",
      "              fullname_en  shortname_en  ... province city_id city  \\\n",
      "0  Ping An Bank Co., Ltd.  Ping An Bank  ...       广东  440300  深圳市   \n",
      "\n",
      "  industry_id  industry_1  industry_2               cpafirm    lawfirm  ceo  \\\n",
      "0         J66         金融业      货币金融服务  普华永道中天会计师事务所（特殊普通合伙）  竞天公诚律师事务所  胡跃飞   \n",
      "\n",
      "                                            comments  \n",
      "0  深发展的核心竞争力更在于其基于市场需求基础上的雄厚的创新实力。迄今深发展已推出双周供、存抵贷...  \n",
      "\n",
      "[1 rows x 45 columns]\n"
     ]
    }
   ],
   "source": [
    "#上市公司基本信息\n",
    "q=query(finance.STK_COMPANY_INFO).filter(finance.STK_COMPANY_INFO.code=='000001.XSHE').limit(10)\n",
    "df=finance.run_query(q)\n",
    "print(df)"
   ]
  },
  {
   "cell_type": "code",
   "execution_count": 3,
   "metadata": {},
   "outputs": [
    {
     "name": "stdout",
     "output_type": "stream",
     "text": [
      "      id  company_id         code  name    end_date    pub_date  employee  \\\n",
      "0  26789   430000001  000001.XSHE  平安银行  2014-12-31  2015-03-13     29860   \n",
      "1  26790   430000001  000001.XSHE  平安银行  2015-06-30  2015-08-14     30526   \n",
      "2  26791   430000001  000001.XSHE  平安银行  2015-12-31  2016-03-10     32299   \n",
      "3  26792   430000001  000001.XSHE  平安银行  2016-06-30  2016-08-12     38600   \n",
      "4  26793   430000001  000001.XSHE  平安银行  2016-12-31  2017-03-17     36885   \n",
      "5  35492   430000001  000001.XSHE  平安银行  2017-06-30  2017-08-11     30292   \n",
      "6  35493   430000001  000001.XSHE  平安银行  2017-12-31  2018-03-15     31168   \n",
      "7  35494   430000001  000001.XSHE  平安银行  2018-06-30  2018-08-16     32744   \n",
      "8  58324   430000001  000001.XSHE  平安银行  2018-12-31  2019-03-07     33708   \n",
      "\n",
      "  retirement graduate_rate college_rate  middle_rate  \n",
      "0       None          None         None      23237.0  \n",
      "1       None          None         None      23892.0  \n",
      "2       None          None         None      25652.0  \n",
      "3       None          None         None      25652.0  \n",
      "4       None          None         None      29884.0  \n",
      "5       None          None         None          NaN  \n",
      "6       None          None         None      25720.0  \n",
      "7       None          None         None      27194.0  \n",
      "8       None          None         None      28348.0  \n"
     ]
    }
   ],
   "source": [
    "#上市公司员工情况\n",
    "q=query(finance.STK_EMPLOYEE_INFO).filter(finance.STK_EMPLOYEE_INFO.code=='000001.XSHE',finance.STK_EMPLOYEE_INFO.pub_date>='2015-01-01').limit(10)\n",
    "df=finance.run_query(q)\n",
    "print(df)"
   ]
  },
  {
   "cell_type": "code",
   "execution_count": 4,
   "metadata": {},
   "outputs": [
    {
     "name": "stdout",
     "output_type": "stream",
     "text": [
      "      id  company_id         code  name    pub_date change_date change_reason  \\\n",
      "0  16712   430000001  000001.XSHE  深发展A  1991-04-03  1991-04-03          None   \n",
      "\n",
      "   change_type_id change_type comments  public_status_id public_status  \n",
      "0          303009        新股上市     None            301001          正常上市  \n"
     ]
    }
   ],
   "source": [
    "#上市公司状态变动\n",
    "q=query(finance.STK_STATUS_CHANGE).filter(finance.STK_STATUS_CHANGE.code=='000001.XSHE').limit(10)\n",
    "df=finance.run_query(q)\n",
    "print(df)"
   ]
  },
  {
   "cell_type": "code",
   "execution_count": 5,
   "metadata": {},
   "outputs": [
    {
     "name": "stdout",
     "output_type": "stream",
     "text": [
      "     id         code  name short_name category exchange  start_date end_date  \\\n",
      "0  4352  000001.XSHE  平安银行       PAYH        A     XSHE  1991-04-03     None   \n",
      "\n",
      "   company_id company_name  ipo_shares  book_price  par_value  state_id state  \n",
      "0   430000001   平安银行股份有限公司  16657580.0        40.0        1.0    301001  正常上市  \n"
     ]
    }
   ],
   "source": [
    "#股票上市信息\n",
    "q=query(finance.STK_LIST).filter(finance.STK_LIST.code=='000001.XSHE').limit(10)\n",
    "df=finance.run_query(q)\n",
    "print(df)"
   ]
  },
  {
   "cell_type": "code",
   "execution_count": 6,
   "metadata": {},
   "outputs": [
    {
     "name": "stdout",
     "output_type": "stream",
     "text": [
      "     id         code  company_id new_name new_spelling org_name org_spelling  \\\n",
      "0     1  000001.XSHE   430000001     深发展A         SFZA     None         None   \n",
      "1  4206  000001.XSHE   430000001    S深发展A        SSFZA     None         None   \n",
      "2  5600  000001.XSHE   430000001     深发展A         SFZA    S深发展A        SSFZA   \n",
      "3  7509  000001.XSHE   430000001     平安银行         PAYX     深发展A         SFZA   \n",
      "\n",
      "   start_date    pub_date reason  \n",
      "0  1991-04-03  1991-04-03   None  \n",
      "1  2006-10-09  2006-09-28   None  \n",
      "2  2007-06-20  2007-06-14   None  \n",
      "3  2012-08-02  2012-08-02   None  \n"
     ]
    }
   ],
   "source": [
    "#股票简称变更\n",
    "q=query(finance.STK_NAME_HISTORY).filter(finance.STK_NAME_HISTORY.code=='000001.XSHE').limit(10)\n",
    "df=finance.run_query(q)\n",
    "print(df)"
   ]
  },
  {
   "cell_type": "code",
   "execution_count": 7,
   "metadata": {},
   "outputs": [
    {
     "name": "stdout",
     "output_type": "stream",
     "text": [
      "       id  company_id company_name         code    pub_date  person_id  \\\n",
      "0  138262   430000001   平安银行股份有限公司  000001.XSHE  2014-10-10  201309346   \n",
      "1  138263   430000001   平安银行股份有限公司  000001.XSHE  2014-10-10  201309346   \n",
      "2  138264   430000001   平安银行股份有限公司  000001.XSHE  2014-10-10  201309346   \n",
      "3  138265   430000001   平安银行股份有限公司  000001.XSHE  2014-10-10  201313341   \n",
      "4  138266   430000001   平安银行股份有限公司  000001.XSHE  2014-10-10  201313342   \n",
      "5  138267   430000001   平安银行股份有限公司  000001.XSHE  2014-10-10  201314655   \n",
      "6  138268   430000001   平安银行股份有限公司  000001.XSHE  2014-10-10  201314656   \n",
      "7  138269   430000001   平安银行股份有限公司  000001.XSHE  2014-10-10  201317398   \n",
      "8  138270   430000001   平安银行股份有限公司  000001.XSHE  2014-10-10  201317399   \n",
      "9  138271   430000001   平安银行股份有限公司  000001.XSHE  2014-10-10  201317400   \n",
      "\n",
      "      name  title_class_id title_class title  ... highest_degree_id  \\\n",
      "0      肖遂宁          314001       董事会成员    董事  ...          316004.0   \n",
      "1      肖遂宁          314003        高管成员    行长  ...          316004.0   \n",
      "2      肖遂宁          314001       董事会成员   董事长  ...          316004.0   \n",
      "3  罗伯特·巴内姆          314001       董事会成员  独立董事  ...          316002.0   \n",
      "4      孙昌基          314001       董事会成员  独立董事  ...               NaN   \n",
      "5      张桐以          314001       董事会成员    董事  ...          316002.0   \n",
      "6      王开国          314001       董事会成员    董事  ...          316001.0   \n",
      "7      陈武朝          314001       董事会成员  独立董事  ...          316001.0   \n",
      "8      谢国忠          314001       董事会成员  独立董事  ...          316001.0   \n",
      "9      马雪征          314001       董事会成员    董事  ...          316003.0   \n",
      "\n",
      "  highest_degree title_level_id title_level profession_certificate_id  \\\n",
      "0          大专及其他       317003.0          高级                      None   \n",
      "1          大专及其他       317003.0          高级                      None   \n",
      "2          大专及其他       317003.0          高级                      None   \n",
      "3         硕士及研究生            NaN        None                      None   \n",
      "4           None       317003.0          高级                      None   \n",
      "5         硕士及研究生            NaN        None                      None   \n",
      "6          博士研究生            NaN        None                      None   \n",
      "7          博士研究生       317003.0          高级                      None   \n",
      "8          博士研究生            NaN        None                      None   \n",
      "9             本科            NaN        None                      None   \n",
      "\n",
      "  profession_certificate  nationality_id nationality  \\\n",
      "0                   None            None        None   \n",
      "1                   None            None        None   \n",
      "2                   None            None        None   \n",
      "3                   None            None        None   \n",
      "4                   None            None        None   \n",
      "5                   None            None        None   \n",
      "6                   None            None        None   \n",
      "7                  注册会计师            None        None   \n",
      "8                   None            None        None   \n",
      "9                   None            None        None   \n",
      "\n",
      "   security_career_start_year  \\\n",
      "0                        None   \n",
      "1                        None   \n",
      "2                        None   \n",
      "3                        None   \n",
      "4                        None   \n",
      "5                        None   \n",
      "6                        None   \n",
      "7                        None   \n",
      "8                        None   \n",
      "9                        None   \n",
      "\n",
      "                                              resume  \n",
      "0  肖遂宁先生：出生于1948年2月，高级经济师。曾任深圳发展银行总行行长、董事长，平安银行股份...  \n",
      "1  肖遂宁先生：出生于1948年2月，高级经济师。曾任深圳发展银行总行行长、董事长，平安银行股份...  \n",
      "2  肖遂宁先生：出生于1948年2月，高级经济师。曾任深圳发展银行总行行长、董事长，平安银行股份...  \n",
      "3  罗伯特巴内姆先生（RobertT.Barnum）自1997年至今在美国加州的PokerFla...  \n",
      "4  孙昌基，男，研究员级高级工程师。1942年8月20日出生于上海，1966年9月毕业于清华大学...  \n",
      "5  张桐以（JustinChang）先生，现居香港，是德州太平洋投资集团和新桥投资的合伙人之一。...  \n",
      "6  王开国先生：1958年出生，获得经济学博士学位。现任海通证券股份有限公司董事长、党委书记。2...  \n",
      "7  陈武朝先生：1970年出生，中国国籍，无境外永久居留权。毕业于清华大学会计学专业，博士学历，...  \n",
      "8  谢国忠先生，独立董事候选人，1960年出生，毕业于同济大学路桥系，于1987年获麻省理工学院...  \n",
      "9  马雪征：中国香港居民，女，1952年出生，大学学历。1978年至1990年任职于中国科学院；...  \n",
      "\n",
      "[10 rows x 26 columns]\n"
     ]
    }
   ],
   "source": [
    "#公司管理人员任职情况\n",
    "q=query(finance.STK_MANAGEMENT_INFO).filter(finance.STK_MANAGEMENT_INFO.code=='000001.XSHE').order_by(finance.STK_MANAGEMENT_INFO.pub_date).limit(10)\n",
    "df=finance.run_query(q)\n",
    "print(df)"
   ]
  },
  {
   "cell_type": "code",
   "execution_count": null,
   "metadata": {},
   "outputs": [],
   "source": []
  }
 ],
 "metadata": {
  "kernelspec": {
   "display_name": "Python 3",
   "language": "python",
   "name": "python3"
  },
  "language_info": {
   "codemirror_mode": {
    "name": "ipython",
    "version": 3
   },
   "file_extension": ".py",
   "mimetype": "text/x-python",
   "name": "python",
   "nbconvert_exporter": "python",
   "pygments_lexer": "ipython3",
   "version": "3.7.3"
  }
 },
 "nbformat": 4,
 "nbformat_minor": 2
}
